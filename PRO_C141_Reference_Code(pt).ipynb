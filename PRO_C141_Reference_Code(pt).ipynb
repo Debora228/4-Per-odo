{
  "nbformat": 4,
  "nbformat_minor": 0,
  "metadata": {
    "colab": {
      "provenance": [],
      "include_colab_link": true
    },
    "kernelspec": {
      "name": "python3",
      "display_name": "Python 3"
    },
    "language_info": {
      "name": "python"
    }
  },
  "cells": [
    {
      "cell_type": "markdown",
      "metadata": {
        "id": "view-in-github",
        "colab_type": "text"
      },
      "source": [
        "<a href=\"https://colab.research.google.com/github/Debora228/4-Periodo/blob/master/PRO_C141_Reference_Code(pt).ipynb\" target=\"_parent\"><img src=\"https://colab.research.google.com/assets/colab-badge.svg\" alt=\"Open In Colab\"/></a>"
      ]
    },
    {
      "cell_type": "code",
      "source": [
        "!git clone https://github.com/ByjusBrazil/PRO_1-1_C138_KaggleMovieData"
      ],
      "metadata": {
        "colab": {
          "base_uri": "https://localhost:8080/"
        },
        "id": "S2ZTKJExC5Xb",
        "outputId": "5a11d409-778b-4355-a673-9b133d366047"
      },
      "execution_count": 4,
      "outputs": [
        {
          "output_type": "stream",
          "name": "stdout",
          "text": [
            "fatal: destination path 'PRO_1-1_C138_KaggleMovieData' already exists and is not an empty directory.\n"
          ]
        }
      ]
    },
    {
      "cell_type": "markdown",
      "source": [
        "# Nova secção"
      ],
      "metadata": {
        "id": "NzYX3UaSPnkj"
      }
    },
    {
      "cell_type": "code",
      "source": [
        "import pandas as pd\n",
        "import numpy as np\n",
        "movies_df = pd.read_csv('/content/PRO_1-1_C138_KaggleMovieData/tmdb_5000_movies.csv')\n",
        "credits_df = pd.read_csv('/content/PRO_1-1_C138_KaggleMovieData/tmdb_5000_credits.csv')"
      ],
      "metadata": {
        "id": "PapveunsqkoN"
      },
      "execution_count": 8,
      "outputs": []
    },
    {
      "cell_type": "code",
      "source": [
        "credits_df.rename(columns = {'movie_id' : 'id'} , inplace = True)"
      ],
      "metadata": {
        "id": "ALGyp80Vr8t_"
      },
      "execution_count": 9,
      "outputs": []
    },
    {
      "cell_type": "code",
      "source": [
        "common_df = pd.merge(movies_df , credits_df , on = 'id')"
      ],
      "metadata": {
        "id": "hoPUTB6osHs7"
      },
      "execution_count": 10,
      "outputs": []
    },
    {
      "cell_type": "code",
      "source": [
        "common_df.drop(['homepage', 'title_x', 'title_y', 'production_companies'] , axis = 1 , inplace = True)\n",
        "common_df.dropna(inplace = True)\n",
        "common_df.info()"
      ],
      "metadata": {
        "colab": {
          "base_uri": "https://localhost:8080/"
        },
        "id": "95R5FHq3C8v9",
        "outputId": "3a5acb93-e5db-4407-d1ed-bd67f6ac0dc8"
      },
      "execution_count": 11,
      "outputs": [
        {
          "output_type": "stream",
          "name": "stdout",
          "text": [
            "<class 'pandas.core.frame.DataFrame'>\n",
            "Index: 3958 entries, 0 to 4801\n",
            "Data columns (total 19 columns):\n",
            " #   Column                Non-Null Count  Dtype  \n",
            "---  ------                --------------  -----  \n",
            " 0   budget                3958 non-null   int64  \n",
            " 1   genres                3958 non-null   object \n",
            " 2   id                    3958 non-null   int64  \n",
            " 3   keywords              3958 non-null   object \n",
            " 4   original_language     3958 non-null   object \n",
            " 5   original_title        3958 non-null   object \n",
            " 6   overview              3958 non-null   object \n",
            " 7   popularity            3958 non-null   float64\n",
            " 8   production_countries  3958 non-null   object \n",
            " 9   release_date          3958 non-null   object \n",
            " 10  revenue               3958 non-null   int64  \n",
            " 11  runtime               3958 non-null   float64\n",
            " 12  spoken_languages      3958 non-null   object \n",
            " 13  status                3958 non-null   object \n",
            " 14  tagline               3958 non-null   object \n",
            " 15  vote_average          3958 non-null   float64\n",
            " 16  vote_count            3958 non-null   int64  \n",
            " 17  cast                  3958 non-null   object \n",
            " 18  crew                  3958 non-null   object \n",
            "dtypes: float64(3), int64(4), object(12)\n",
            "memory usage: 618.4+ KB\n"
          ]
        }
      ]
    },
    {
      "cell_type": "code",
      "source": [
        "# calculando a classificação ponderada\n",
        "R = common_df['vote_average']\n",
        "v = common_df['vote_count']\n",
        "C = common_df['vote_average'].mean()\n",
        "print(C)\n",
        "m = common_df['vote_count'].quantile(0.9)\n",
        "print(m)\n",
        "common_df['weighted_rating'] = (R*v + C*m) / (v + m)"
      ],
      "metadata": {
        "colab": {
          "base_uri": "https://localhost:8080/"
        },
        "id": "K4poDvLtCJtB",
        "outputId": "3b5aaa1d-91cd-4e1e-df72-46923da3a25d"
      },
      "execution_count": 12,
      "outputs": [
        {
          "output_type": "stream",
          "name": "stdout",
          "text": [
            "6.181859525012634\n",
            "2101.2000000000007\n"
          ]
        }
      ]
    },
    {
      "cell_type": "code",
      "source": [
        "from ast import literal_eval\n",
        "\n",
        "features = ['cast' , 'crew', 'keywords', 'genres']\n",
        "for feature in features:\n",
        "  common_df[feature] = common_df[feature].apply(literal_eval)"
      ],
      "metadata": {
        "id": "2C-2JN_YGgpj"
      },
      "execution_count": 13,
      "outputs": []
    },
    {
      "cell_type": "code",
      "source": [
        "def get_director(crew):\n",
        "  for crew_member in crew:\n",
        "    if crew_member['job']  ==  'Director':\n",
        "      return crew_member['name']\n",
        "\n",
        "  return np.nan\n",
        "\n",
        "common_df['director'] = common_df['crew'].apply(get_director)"
      ],
      "metadata": {
        "id": "zOzbwwHtGlNo"
      },
      "execution_count": 14,
      "outputs": []
    },
    {
      "cell_type": "code",
      "source": [
        "def get_name_list(column_value):\n",
        "  names_list = []\n",
        "  if isinstance(column_value , list):\n",
        "    for element in column_value:\n",
        "      names_list.append(element['name'])\n",
        "\n",
        "  return names_list\n",
        "\n",
        "features = ['cast' , 'keywords' , 'genres']\n",
        "for feature in features:\n",
        "  common_df[feature] = common_df[feature].apply(get_name_list)"
      ],
      "metadata": {
        "id": "OnakxNU2Go-a"
      },
      "execution_count": 15,
      "outputs": []
    },
    {
      "cell_type": "code",
      "source": [
        "def clean_data(column_value):\n",
        "  modified_list = []\n",
        "  modified_string = \"\"\n",
        "  if isinstance(column_value , list):\n",
        "    for element in column_value:\n",
        "      modified_string = element.replace(\" \" , \"\")\n",
        "      modified_list.append(modified_string.lower())\n",
        "\n",
        "    return modified_list\n",
        "\n",
        "  elif isinstance(column_value , str):\n",
        "    modified_string = column_value.replace(\" \" , \"\")\n",
        "    return modified_string.lower()\n",
        "\n",
        "  else:\n",
        "    return ''\n",
        "\n",
        "features = ['cast' , 'keywords' , 'genres' , 'director']\n",
        "for feature in features:\n",
        "  common_df[feature] = common_df[feature].apply(clean_data)"
      ],
      "metadata": {
        "id": "rfcngy28GtV8"
      },
      "execution_count": 16,
      "outputs": []
    },
    {
      "cell_type": "code",
      "source": [
        "def create_soup(x):\n",
        "   return ' '.join(x['keywords']) + ' ' + ' '.join(x['cast']) + ' ' + x['director'] + ' ' + ' '.join(x['genres'])\n",
        "common_df['soup'] = common_df.apply(create_soup, axis=1)"
      ],
      "metadata": {
        "id": "wjVZl-cPGwaK"
      },
      "execution_count": 17,
      "outputs": []
    },
    {
      "cell_type": "code",
      "source": [
        "# redefinindo o índice\n",
        "common_df = common_df.reset_index()\n",
        "indices = pd.Series(common_df.index, index=common_df['original_title'])"
      ],
      "metadata": {
        "id": "eh-z5ExwHP0y"
      },
      "execution_count": 18,
      "outputs": []
    },
    {
      "cell_type": "code",
      "source": [
        "# convertendo o dataframe para csv\n",
        "common_df.to_csv('movies.csv')"
      ],
      "metadata": {
        "id": "MXwqme8F2vcw"
      },
      "execution_count": 19,
      "outputs": []
    },
    {
      "cell_type": "code",
      "source": [
        "# baixando o arquivo\n",
        "from google.colab import files\n",
        "files.download('movies.csv')"
      ],
      "metadata": {
        "id": "mxz7xLLrsX-b",
        "colab": {
          "base_uri": "https://localhost:8080/",
          "height": 17
        },
        "outputId": "76bc573e-9d19-4226-cd0e-d37a5460ed5c"
      },
      "execution_count": 20,
      "outputs": [
        {
          "output_type": "display_data",
          "data": {
            "text/plain": [
              "<IPython.core.display.Javascript object>"
            ],
            "application/javascript": [
              "\n",
              "    async function download(id, filename, size) {\n",
              "      if (!google.colab.kernel.accessAllowed) {\n",
              "        return;\n",
              "      }\n",
              "      const div = document.createElement('div');\n",
              "      const label = document.createElement('label');\n",
              "      label.textContent = `Downloading \"${filename}\": `;\n",
              "      div.appendChild(label);\n",
              "      const progress = document.createElement('progress');\n",
              "      progress.max = size;\n",
              "      div.appendChild(progress);\n",
              "      document.body.appendChild(div);\n",
              "\n",
              "      const buffers = [];\n",
              "      let downloaded = 0;\n",
              "\n",
              "      const channel = await google.colab.kernel.comms.open(id);\n",
              "      // Send a message to notify the kernel that we're ready.\n",
              "      channel.send({})\n",
              "\n",
              "      for await (const message of channel.messages) {\n",
              "        // Send a message to notify the kernel that we're ready.\n",
              "        channel.send({})\n",
              "        if (message.buffers) {\n",
              "          for (const buffer of message.buffers) {\n",
              "            buffers.push(buffer);\n",
              "            downloaded += buffer.byteLength;\n",
              "            progress.value = downloaded;\n",
              "          }\n",
              "        }\n",
              "      }\n",
              "      const blob = new Blob(buffers, {type: 'application/binary'});\n",
              "      const a = document.createElement('a');\n",
              "      a.href = window.URL.createObjectURL(blob);\n",
              "      a.download = filename;\n",
              "      div.appendChild(a);\n",
              "      a.click();\n",
              "      div.remove();\n",
              "    }\n",
              "  "
            ]
          },
          "metadata": {}
        },
        {
          "output_type": "display_data",
          "data": {
            "text/plain": [
              "<IPython.core.display.Javascript object>"
            ],
            "application/javascript": [
              "download(\"download_75d1c71e-5c66-403a-bf64-b49e626fb1f6\", \"movies.csv\", 23831755)"
            ]
          },
          "metadata": {}
        }
      ]
    },
    {
      "cell_type": "code",
      "source": [
        "movies_links = pd.read_csv('/content/movie_links.csv')\n",
        "movies_df  = pd.read_csv('/content/movies.csv')\n"
      ],
      "metadata": {
        "id": "Y3XU0kEocrPg"
      },
      "execution_count": 21,
      "outputs": []
    },
    {
      "cell_type": "code",
      "source": [
        "movies_links.info()"
      ],
      "metadata": {
        "colab": {
          "base_uri": "https://localhost:8080/"
        },
        "id": "4hmeYFPYdVE1",
        "outputId": "124118db-0c6e-44d6-b56e-351c22345532"
      },
      "execution_count": 22,
      "outputs": [
        {
          "output_type": "stream",
          "name": "stdout",
          "text": [
            "<class 'pandas.core.frame.DataFrame'>\n",
            "RangeIndex: 4747 entries, 0 to 4746\n",
            "Data columns (total 2 columns):\n",
            " #   Column          Non-Null Count  Dtype \n",
            "---  ------          --------------  ----- \n",
            " 0   original_title  4747 non-null   object\n",
            " 1   poster_link     4747 non-null   object\n",
            "dtypes: object(2)\n",
            "memory usage: 74.3+ KB\n"
          ]
        }
      ]
    },
    {
      "cell_type": "code",
      "source": [
        "final = pd.merge(movies_df , movies_links , on = 'original_title')\n",
        "final.info()"
      ],
      "metadata": {
        "colab": {
          "base_uri": "https://localhost:8080/"
        },
        "id": "CJ5_MBsUdMWE",
        "outputId": "7c375d46-6ac0-4d8b-edd4-3dfdadb2681e"
      },
      "execution_count": 23,
      "outputs": [
        {
          "output_type": "stream",
          "name": "stdout",
          "text": [
            "<class 'pandas.core.frame.DataFrame'>\n",
            "RangeIndex: 3929 entries, 0 to 3928\n",
            "Data columns (total 25 columns):\n",
            " #   Column                Non-Null Count  Dtype  \n",
            "---  ------                --------------  -----  \n",
            " 0   Unnamed: 0            3929 non-null   int64  \n",
            " 1   index                 3929 non-null   int64  \n",
            " 2   budget                3929 non-null   int64  \n",
            " 3   genres                3929 non-null   object \n",
            " 4   id                    3929 non-null   int64  \n",
            " 5   keywords              3929 non-null   object \n",
            " 6   original_language     3929 non-null   object \n",
            " 7   original_title        3929 non-null   object \n",
            " 8   overview              3929 non-null   object \n",
            " 9   popularity            3929 non-null   float64\n",
            " 10  production_countries  3929 non-null   object \n",
            " 11  release_date          3929 non-null   object \n",
            " 12  revenue               3929 non-null   int64  \n",
            " 13  runtime               3929 non-null   float64\n",
            " 14  spoken_languages      3929 non-null   object \n",
            " 15  status                3929 non-null   object \n",
            " 16  tagline               3929 non-null   object \n",
            " 17  vote_average          3929 non-null   float64\n",
            " 18  vote_count            3929 non-null   int64  \n",
            " 19  cast                  3929 non-null   object \n",
            " 20  crew                  3929 non-null   object \n",
            " 21  weighted_rating       3929 non-null   float64\n",
            " 22  director              3921 non-null   object \n",
            " 23  soup                  3929 non-null   object \n",
            " 24  poster_link           3929 non-null   object \n",
            "dtypes: float64(4), int64(6), object(15)\n",
            "memory usage: 767.5+ KB\n"
          ]
        }
      ]
    }
  ]
}